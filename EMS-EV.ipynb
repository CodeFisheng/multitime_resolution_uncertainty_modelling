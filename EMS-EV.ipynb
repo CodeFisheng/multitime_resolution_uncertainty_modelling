{
 "cells": [
  {
   "cell_type": "code",
   "execution_count": 6,
   "metadata": {
    "collapsed": false
   },
   "outputs": [],
   "source": [
    "import numpy as np\n",
    "import pandas as pd\n",
    "import datetime\n",
    "import time\n",
    "import matplotlib.pyplot as plt\n",
    "import numpy as np\n",
    "%matplotlib inline\n",
    "\n",
    "class DemandFile:\n",
    "    def __init__(self,filename, parsesheet):\n",
    "        self.dataframe = importExcelData(filename, parsesheet)\n",
    "        self.date = self.dataframe['Date']\n",
    "        self.date_ud = unduplicate(self.date)\n",
    "        self.CusID = self.dataframe['CustomerID']\n",
    "        self.CusID_ud = unduplicate(self.CusID) #unduplicated customer ID list for search\n",
    "    def getDataframeAll(self):\n",
    "        return self.dataframe\n",
    "    def getDate(self):\n",
    "        return self.date\n",
    "    def getCusID(self):\n",
    "        return self.CusID\n",
    "    def getCusID_ud(self):\n",
    "        return self.CusID_ud\n",
    "    def getDate_ud(self):\n",
    "        return self.date_ud\n",
    "def importExcelData(filename,sheet):\n",
    "    xls = pd.ExcelFile(filename)\n",
    "    dataframe = xls.parse(sheet)\n",
    "    return dataframe\n",
    "def date2str(timestamp):\n",
    "    date_str = timestamp.strftime(\"%Y-%m-%d %H:%M:%S\")\n",
    "    date_str_short = timestamp.strftime(\"%Y-%m-%d\")\n",
    "    return date_str, date_str_short\n",
    "def str2date(timestr):\n",
    "    ifshort = False\n",
    "    date_str = \"\"\n",
    "    date_str_short = \"\"\n",
    "    if len(timestr) < 15:\n",
    "        date_str_short = timestr\n",
    "        ifshort = True\n",
    "    else:\n",
    "        date_str = timestr\n",
    "        ifshort = False\n",
    "    #print ifshort\n",
    "    if ifshort:\n",
    "        dt_obj = pd.Timestamp(datetime.datetime.strptime(date_str_short, \"%Y-%m-%d\"))\n",
    "    else:\n",
    "        dt_obj = pd.Timestamp(datetime.datetime.strptime(date_str, \"%Y-%m-%d %H:%M:%S\"))\n",
    "    return dt_obj\n",
    "def unduplicate(listname):\n",
    "    ud_list = list(set(listname))\n",
    "    ud_list.sort()\n",
    "    return ud_list\n",
    "def inlist(dm,CLT):\n",
    "    idbase = (dm['CustomerID'] == 0)\n",
    "    for ind in CLT:\n",
    "        tmpid = (dm['CustomerID'] == ind)\n",
    "        idbase = idbase | tmpid\n",
    "    return idbase\n",
    "def rateCal(mlist):\n",
    "    ori = np.mean(mlist[:-1])\n",
    "    new = mlist[-1]\n",
    "    rate = (ori - new)/ori\n",
    "    return rate"
   ]
  },
  {
   "cell_type": "code",
   "execution_count": 8,
   "metadata": {
    "collapsed": false
   },
   "outputs": [],
   "source": [
    "## create DemandFile object, get basic date from it, date, date_ud, cusid, cusid_ud, and dataframe\n",
    "Demandbase = DemandFile('data_10_households.xlsx', 'data_10_households')\n",
    "Date = Demandbase.getDate()\n",
    "Date_ud = Demandbase.getDate_ud()\n",
    "CusID = Demandbase.getCusID()\n",
    "CusID_ud = Demandbase.getCusID_ud()\n",
    "Demand = Demandbase.getDataframeAll()"
   ]
  },
  {
   "cell_type": "code",
   "execution_count": 9,
   "metadata": {
    "collapsed": true
   },
   "outputs": [],
   "source": [
    "# start the optimization part, first define parameters of the optimization\n",
    "# battery parameters: ....\n",
    "price = np.array(pd.read_csv('pr.csv'))\n",
    "#define parameters of battery storage and programming\n",
    "SoCini = 0\n",
    "SoCmin = 0.3-0.5\n",
    "SoCmax = 0.9-0.5\n",
    "Batcap = 12  # kWh\n",
    "Pmax = 1.5\n",
    "Pmin = 0-1.5\n",
    "Efc = 0.99\n",
    "Efd = 0.9\n",
    "T = 0.5\n",
    "HomePG = 5 # home and grid max power\n",
    "penetration_rate = 0.20\n",
    "import scipy.optimize as opt\n",
    "def optim(demand):\n",
    "    # OBJ\n",
    "    def obj(x): # obj = price * Time_duration * (Pt + demand)\n",
    "        part1 = np.dot(price.T, x + demand)*T\n",
    "        ret = np.sum(part1)\n",
    "        return ret\n",
    "    # CONS 1: # Pt >= P_discharge_limit\n",
    "    def con1(x): \n",
    "        return x - Pmin\n",
    "    # CONS 2: # Pt <= P_charge_limit\n",
    "    def con2(x): \n",
    "        return Pmax - x\n",
    "    # CONS 3: # Et >= Emin, Einit = 0.5*cap, Elast = 0.5*cap\n",
    "    Emin = np.ones(48)*Batcap*SoCmin\n",
    "    Emin[-1] = 0\n",
    "    Emax = 0 - Emin\n",
    "    # define Energy function\n",
    "    def Energy(x):\n",
    "        a = np.ones((48,48))\n",
    "        lower_tri = np.tril(a, k=0)\n",
    "        Ene = np.matmul(lower_tri,x)*T\n",
    "        return Ene\n",
    "    def con3(x):\n",
    "        return Energy(x) - Emin\n",
    "    def con4(x):\n",
    "        return Emax - Energy(x)\n",
    "    # do not sell energy, that is lose energy is bad\n",
    "    def con5(x):\n",
    "        return demand + x\n",
    "    # max power of the home, or grid\n",
    "    def con6(x):\n",
    "        return HomePG - demand - x\n",
    "    # constraints list\n",
    "    cons = ({'type': 'ineq', 'fun': con1},\n",
    "           {'type': 'ineq', 'fun': con2},\n",
    "           {'type': 'ineq', 'fun': con3},\n",
    "           {'type': 'ineq', 'fun': con4},\n",
    "           {'type': 'ineq', 'fun': con5},\n",
    "           {'type': 'ineq', 'fun': con6})\n",
    "    x0 = np.zeros(48)  # pick any starting point\n",
    "    res = opt.minimize(fun=obj, x0=np.array(x0), method='cobyla', constraints=cons, options={'catol': 1e-6})\n",
    "    return res"
   ]
  },
  {
   "cell_type": "code",
   "execution_count": 18,
   "metadata": {
    "collapsed": false
   },
   "outputs": [
    {
     "name": "stdout",
     "output_type": "stream",
     "text": [
      "original cost:  1505.867215\n",
      "new cost:  1419.719095\n",
      "prior EMS: reducing cost by:  86.14812\n",
      "cost saving rate:  5.72 %\n"
     ]
    }
   ],
   "source": [
    "# one home example --- show how to two targets\n",
    "DemandA = np.array(Demand)[:,2:]\n",
    "demand0 = DemandA[0,:]\n",
    "def objcal(x, demand):\n",
    "    part1 = np.dot(price.T, x + demand)*T\n",
    "    ret = np.sum(part1)\n",
    "    return ret\n",
    "res = optim(demand0)\n",
    "#plot(range(48), res.x,'r')\n",
    "print 'original cost: ', objcal(0, demand0)\n",
    "print 'new cost: ', objcal(res.x, demand0)\n",
    "print 'prior EMS: reducing cost by: ', objcal(0, demand0) - objcal(res.x, demand0)\n",
    "print 'cost saving rate:{:6.2f}'.format(100*(objcal(0, demand0) - objcal(res.x, demand0))/objcal(0, demand0)),'%'"
   ]
  },
  {
   "cell_type": "code",
   "execution_count": 19,
   "metadata": {
    "collapsed": false
   },
   "outputs": [
    {
     "data": {
      "image/png": "[encoded data removed]",
      "text/plain": [
       "<matplotlib.figure.Figure at 0xa5e7da0>"
      ]
     },
     "metadata": {},
     "output_type": "display_data"
    }
   ],
   "source": [
    "plt.rc('font', family='serif')\n",
    "\n",
    "fig = plt.figure(figsize=(8, 6))\n",
    "ax = fig.add_subplot(1, 1, 1)\n",
    "ax.set_xlabel('The x values')\n",
    "ax.set_ylabel('The y values')\n",
    "plt.rc('font', family = 'serif', serif = 'Times')\n",
    "plt.rc('xtick', labelsize = 8)\n",
    "plt.rc('ytick', labelsize = 8)\n",
    "plt.rc('axes', labelsize = 8)\n",
    "\n",
    "x = range(48)\n",
    "ax.plot(x, demand0, color='black', ls='solid', linewidth = 1)\n",
    "ax.plot(x, demand0 + res.x, color='r', ls='dashdot', linewidth = 1.3)\n",
    "ax.set_xlabel('Time (hr)')\n",
    "ax.set_ylabel('Demand Uncertainty (kWh)')\n",
    "plt.show()"
   ]
  },
  {
   "cell_type": "code",
   "execution_count": null,
   "metadata": {
    "collapsed": true
   },
   "outputs": [],
   "source": []
  }
 ],
 "metadata": {
  "anaconda-cloud": {},
  "kernelspec": {
   "display_name": "Python [conda root]",
   "language": "python",
   "name": "conda-root-py"
  },
  "language_info": {
   "codemirror_mode": {
    "name": "ipython",
    "version": 2
   },
   "file_extension": ".py",
   "mimetype": "text/x-python",
   "name": "python",
   "nbconvert_exporter": "python",
   "pygments_lexer": "ipython2",
   "version": "2.7.12"
  }
 },
 "nbformat": 4,
 "nbformat_minor": 1
}
